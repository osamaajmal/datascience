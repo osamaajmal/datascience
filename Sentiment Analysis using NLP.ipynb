{
 "cells": [
  {
   "cell_type": "code",
   "execution_count": 1,
   "metadata": {},
   "outputs": [],
   "source": [
    "from textblob import TextBlob"
   ]
  },
  {
   "cell_type": "code",
   "execution_count": 14,
   "metadata": {},
   "outputs": [
    {
     "name": "stdout",
     "output_type": "stream",
     "text": [
      "Sentiment(polarity=0.45, subjectivity=0.875)\n",
      "Sentiment(polarity=0.10625, subjectivity=0.525)\n",
      "Sentiment(polarity=0.20606060606060606, subjectivity=0.37297979797979797)\n",
      "Sentiment(polarity=-0.017857142857142856, subjectivity=0.11071428571428571)\n",
      "Sentiment(polarity=0.3125, subjectivity=0.4666666666666666)\n",
      "Sentiment(polarity=0.45, subjectivity=0.5499999999999999)\n",
      "Sentiment(polarity=0.47722222222222227, subjectivity=0.7333333333333334)\n",
      "Sentiment(polarity=0.1875, subjectivity=0.3458333333333333)\n",
      "Sentiment(polarity=0.16874999999999998, subjectivity=0.5352564102564102)\n",
      "Sentiment(polarity=0.30000000000000004, subjectivity=0.675)\n",
      "Sentiment(polarity=0.6499999999999999, subjectivity=0.6)\n",
      "Sentiment(polarity=0.22321428571428573, subjectivity=0.4876984126984127)\n",
      "Sentiment(polarity=0.2333333333333333, subjectivity=0.7000000000000001)\n",
      "Sentiment(polarity=0.0, subjectivity=0.25)\n",
      "Sentiment(polarity=0.0, subjectivity=0.25)\n",
      "Sentiment(polarity=0.6, subjectivity=0.7)\n",
      "Sentiment(polarity=0.05, subjectivity=0.4)\n",
      "Sentiment(polarity=0.05416666666666667, subjectivity=0.6375)\n",
      "Sentiment(polarity=0.24375000000000002, subjectivity=0.59375)\n",
      "Sentiment(polarity=-0.22199999999999998, subjectivity=0.29333333333333333)\n",
      "Sentiment(polarity=-0.5, subjectivity=1.0)\n",
      "Sentiment(polarity=0.05499999999999999, subjectivity=0.39)\n",
      "Sentiment(polarity=-0.25, subjectivity=0.625)\n",
      "Sentiment(polarity=0.5416666666666667, subjectivity=0.8333333333333334)\n",
      "Sentiment(polarity=0.19489795918367347, subjectivity=0.6006802721088436)\n",
      "Sentiment(polarity=0.15576923076923077, subjectivity=0.5019230769230769)\n",
      "Sentiment(polarity=0.06875, subjectivity=0.6031249999999999)\n",
      "Sentiment(polarity=0.4166666666666667, subjectivity=0.5)\n",
      "Sentiment(polarity=0.25625, subjectivity=0.6)\n",
      "Sentiment(polarity=0.0, subjectivity=0.0)\n",
      "Sentiment(polarity=0.06166666666666665, subjectivity=0.5808333333333333)\n"
     ]
    }
   ],
   "source": [
    "Feedback1 = \"Everything else so far is great. But it keeps telling me SiriusXM is not supported even though I've linked the account and have it in car, on laptop and mobile. \"\n",
    "Feedback2 = \"I was pretty excited about this product. Seems like it can do quite a few things. But recently its been having some glitches.\"\n",
    "Feedback3 = \"The 3rd generation Echo Dot looks nice, but the sound quality is a bit muffled, and isn't as clear as the prior generation. I also do not like the new plug. \"\n",
    "Feedback4 = \"Limited tracks and low quality sounds unless you by the next level of amazon music (I already pay for the standard Amazon music). \"\n",
    "Feedback5 = \"Amazon Echo Dot is literally so much better than the Google Home. Does so much more, so much more sleek looking. I totally recommend this and will definitely buy more in future. Sounds is good but could be worked on in the future. Yes small speakers aren't the greatest but still totally worth it.\"\n",
    "Feedback6 = \"I got it as a present for my roommate. She loves it, works perfectly. And the color is cool.\"\n",
    "Feedback7 = \"7.\tI love the clock, it's very easy to read on my nightstand. The face also displays things like temperature and volume level if you ask it. It's is auto dimming, which was a nice surprise for me. The speaker is quite loud and has good quality sound\"\n",
    "Feedback8 = \"8.\tWe bought this Echo dot recently for our household and gave our (still completely functional) 1st generation to a another family member in separate house. The first noticeable improvement was the deeper sound quality and faster power on after plugging in.\"\n",
    "Feedback9 = \"9.\tMy little one loves this, he spends all day playing with Alexa. He's an only child so when I can't always play with him he has games and stories and music he can listen to with Alexa. It's extremely easy to use and she comes with tutorials that he can hear to better use her. I love that it integrates with our regular Alexa dots, when it's time to clean the house or make an announcement I can do so from any room including his. I love the feature where you can turn the mic off because it prevents him from playing music at random times. I love the sleep sounds function it helps him sleep through the night usually and it's become part of his routine. Definitely worth buying and I would absolutely get the mount if not for a shelf I already had he would constantly touch it.\"\n",
    "Feedback10= \"Alexa is a great addition to my home makes everyday tasks simpler.\"\n",
    "Feedback11 = \"I bought my echo primarily to be a speaker for my room and it works great! The sound quality is great and the Alexa capabilities are an added bonus.\"\n",
    "Feedback12 = \"Good for basic model. A little muffled sound not sure why so many people rave about the sound quality.\"\n",
    "Feedback13 = \"Alexa is good for numerous activities especially for kids. \"\n",
    "Feedback14 = \"4 months of use the device just suddenly displayed a red ring and stopped connecting to internet. Amazon tech support couldn't resource issue and won't honor warranty.\"\n",
    "Feedback15 = \"I love Alexa, and loved this until I unplugged it to move it to another part of the room, and it stopped working. \"\n",
    "Feedback16 = \"There is no way to disable the feature. Echo dot always say “now connected to iphone”, “now connected to fire tab”, even in midnight, loud. It waked me up several time. Now, i just plan to throw it away.\"\n",
    "Feedback17 = \"We have purchased 6 of these so far. About three of them have stopped working or have developed issues within 3 months of purchase. Not great odds. We have an Echo Show that works fine. \"\n",
    "Feedback18 = \"I like that i can play one at a time or more. and its easy to just ask for a station to play or set a timer, etc. But I did get this so i could easily plug an aux cord into my laptop or phone and hear whatever i want in a wired up way. In particular my laptop. This is not so easy to do. it is NOT plug and play. looking around to see how i can make this happen but i don't feel like it should be this hard. other than that i enjoy it.\"\n",
    "Feedback19 = \"I have Gen 2 and 3, suddenly this 3rd gen stop working, now I need to plug off every day to work again. I have the 2nd gen for few years and this one work without any issue. very bad product.\"\n",
    "Feedback20 = \"I bought it for my mom but she didn't want Alexa listening to her, she thought it was creepy. So I took the echo dot to my campus instead, but even after calling the support line I couldn't get Alexa to connect to wifi, so the speaker never worked.\"\n",
    "Feedback21 = \"Would give 0 stars for sound quality. Has been fuzzy since a few weeks after received as a gift. Couldn’t return it because I was not the original buyer but know it was purchased on amazon (duh). Amazon support does not have a contact option that has helped me fix it or even talk to a human being regards to this. \"\n",
    "Feedback22 = \"This unit stopped working. We are not able to get it to Re connect to wifi now. So its basically a paper weight now\"\n",
    "Feedback23 = \"Not as easy to set up as they would lead you to believe!\"\n",
    "Feedback24 = \"Alexa works pretty well, but when I ask certain questions, she seems to pick up on one word in the question and give some totally irrelevant information about that. I find Alexa is more convenient than Siri because I don't have to press anything to ask her a question, but Siri overall seems to be smarter in understanding the questions being asked and therefore in answering them more accurately.\"\n",
    "Feedback25 = \"We love our echo dots! We enjoy using them daily! The only complaint I have is that we can’t use them at the same time. I like to use one while im working around the house and my husband wants to use one while he is in the garage. I could see if we’re trying to use more then that but one account should allow more then one to play. Update: This year I ordered all of my kid’s Easter gifts from Amazon. Which is nice since we are told to stay home as much as necessary. My Alexa was flashing yellow which means notifications. So I ask Alexa for notifications and Alexa announced that I had a package delivered. Unfortunately Alexa doesn’t just stop at you have a package.\"\n",
    "Feedback26 = \"I absolutely love this product, the only problem I have with it is the fact that it randomly starts playing music in the middle of the night... it’s actually pretty creepy. But, it’s soooo worth it with all the things you are able to do with it\"\n",
    "Feedback27 = \"The device works fine but I feel like there is price gouging going on. \"\n",
    "Feedback28 = \"Awesome little device but sound is a little muffled for Audible.\"\n",
    "Feedback29 = \"I have several echo devices and I like their functionality. \"\n",
    "Feedback30 = \"Overall, this is a super cool thing to have. Being able to play music, get the weather, and hear a random joke are all a pleasant addition to daily life. The only drawback is that our Alexa is in our living room and sometimes she hears the TV say Alexa and starts listening. It’s not enough to make us move it, but it’s annoying sometimes.\"\n",
    "blob1 = TextBlob(Feedback1)\n",
    "blob2 = TextBlob(Feedback2)\n",
    "blob3 = TextBlob(Feedback3)\n",
    "blob4 = TextBlob(Feedback4)\n",
    "blob5 = TextBlob(Feedback5)\n",
    "blob6 = TextBlob(Feedback6)\n",
    "blob7 = TextBlob(Feedback7)\n",
    "blob8 = TextBlob(Feedback8)\n",
    "blob9 = TextBlob(Feedback9)\n",
    "blob10 = TextBlob(Feedback10)\n",
    "blob11 = TextBlob(Feedback11)\n",
    "blob12 = TextBlob(Feedback12)\n",
    "blob13 = TextBlob(Feedback13)\n",
    "blob14 = TextBlob(Feedback14)\n",
    "blob15 = TextBlob(Feedback15)\n",
    "blob16 = TextBlob(Feedback16)\n",
    "blob17 = TextBlob(Feedback17)\n",
    "blob18 = TextBlob(Feedback18)\n",
    "blob19 = TextBlob(Feedback19)\n",
    "blob20 = TextBlob(Feedback20)\n",
    "blob21 = TextBlob(Feedback21)\n",
    "blob22 = TextBlob(Feedback22)\n",
    "blob23 = TextBlob(Feedback23)\n",
    "blob24 = TextBlob(Feedback24)\n",
    "blob25 = TextBlob(Feedback25)\n",
    "blob26 = TextBlob(Feedback26)\n",
    "blob27 = TextBlob(Feedback27)\n",
    "blob28 = TextBlob(Feedback28)\n",
    "blob29 = TextBlob(Feedback29)\n",
    "blob30 = TextBlob(Feedback30)\n",
    "print(blob1.sentiment)\n",
    "print(blob2.sentiment)\n",
    "print(blob3.sentiment)\n",
    "print(blob4.sentiment)\n",
    "print(blob5.sentiment)\n",
    "print(blob6.sentiment)\n",
    "print(blob7.sentiment)\n",
    "print(blob8.sentiment)\n",
    "print(blob9.sentiment)\n",
    "print(blob10.sentiment)\n",
    "print(blob11.sentiment)\n",
    "print(blob12.sentiment)\n",
    "print(blob13.sentiment)\n",
    "print(blob14.sentiment)\n",
    "print(blob14.sentiment)\n",
    "print(blob15.sentiment)\n",
    "print(blob16.sentiment)\n",
    "print(blob17.sentiment)\n",
    "print(blob18.sentiment)\n",
    "print(blob19.sentiment)\n",
    "print(blob20.sentiment)\n",
    "print(blob21.sentiment)\n",
    "print(blob22.sentiment)\n",
    "print(blob23.sentiment)\n",
    "print(blob24.sentiment)\n",
    "print(blob25.sentiment)\n",
    "print(blob26.sentiment)\n",
    "print(blob27.sentiment)\n",
    "print(blob28.sentiment)\n",
    "print(blob29.sentiment)\n",
    "print(blob30.sentiment)"
   ]
  },
  {
   "cell_type": "code",
   "execution_count": 12,
   "metadata": {},
   "outputs": [],
   "source": [
    "import matplotlib.pyplot as plt"
   ]
  },
  {
   "cell_type": "code",
   "execution_count": 13,
   "metadata": {},
   "outputs": [
    {
     "data": {
      "image/png": "[encoded data removed]",
      "text/plain": [
       "<Figure size 432x288 with 1 Axes>"
      ]
     },
     "metadata": {
      "needs_background": "light"
     },
     "output_type": "display_data"
    }
   ],
   "source": [
    "x = [0.45, 0.11, 0.21, -0.02, 0.31, 0.45, 0.48, 0.19, 0.17, 0.30, 0.65, 0.22, 0.23, 0.0, 0.0, 0.6, 0.05, 0.05, 0.24, -0.22, -0.5, 0.05, -0.25, 0.54, 0.19, 0.16, 0.07, 0.42, 0.26, 0.0, 0.06]\n",
    "plt.plot(x)\n",
    "plt.show()"
   ]
  },
  {
   "cell_type": "markdown",
   "metadata": {},
   "source": [
    "# Analysis"
   ]
  },
  {
   "attachments": {},
   "cell_type": "markdown",
   "metadata": {},
   "source": [
    "Here I've used Natural Language Processing or NLP library TextBlob. It is the library used for sentiment analyis, pos-tagging etc. I've done Sentiment Analysis of 30 comments extracted from an Amazon product review. \n",
    "\n",
    "Firstly I installed the library then I imported that into the Jupyter Notebook. Then as you can see from the code above I copied the clean comments which I've mentioned into another Microsoft Word File. I didn't take long comments since we only want the comments which have either postive or negative words mention. Since I don't have big data that's why I didn't run any machine learning or deep learning algorithm. \n",
    "\n",
    "Firstly I did Tokenization which is the essential part of NLP that refers to dividing text or sentence into sequence of tokens. We also did Parts-of-Speech Tagging, in this method it identifies through marking of words present in the text. \n",
    "\n",
    "Later on I did Word Inflection, that is the process of word formation in which characters/words are added to to express grammatical meanings.\n",
    "\n",
    "Then finally I did Sentiment Analysis. I took the defination from the website which is \n",
    "\n",
    "\"Sentiment analysis is basically the process of determining the attitude or the emotion of the writer, i.e., whether it is positive or negative or neutral.\n",
    "\n",
    "The sentiment function of textblob returns two properties, polarity, and subjectivity.\n",
    "\n",
    "Polarity is float which lies in the range of [-1,1] where 1 means positive statement and -1 means a negative statement. Subjective sentences generally refer to personal opinion, emotion or judgment whereas objective refers to factual information. Subjectivity is also a float which lies in the range of [0,1].\"\n",
    "\n",
    "Here I've only used polarity for the analyis. As we can see from the graph there are many comments closer to 1, that means they are positive. From our manual analysis we did on MS Excel, there we also found out that most comments were positive. \n",
    "\n",
    "Almost every application or software that is used for Text Mining through Artificial Intelligence (AI) uses NLP for their sentiment analysis. I've used direct method of this NLP so that I can clearly explain what's basically happening behind the software, or how it is build and what exactly it does to help us in sentiment analysis.\n",
    "\n",
    "Then to create graph of the polarity we used library Matplotlib which is mainly used for Data Visualization. We imported that library with pyplot since we've to plot the variables. We only used one axis as we didn't have any other either dependant or independant variable for the analysis. \n",
    "\n",
    "\n",
    "So, NLP helped us to give sentiment analysis in easy and effective way withoout doing too much work. The results can be much more effective of the product if we would've many comments. "
   ]
  }
 ],
 "metadata": {
  "kernelspec": {
   "display_name": "Python 3",
   "language": "python",
   "name": "python3"
  },
  "language_info": {
   "codemirror_mode": {
    "name": "ipython",
    "version": 3
   },
   "file_extension": ".py",
   "mimetype": "text/x-python",
   "name": "python",
   "nbconvert_exporter": "python",
   "pygments_lexer": "ipython3",
   "version": "3.7.3"
  }
 },
 "nbformat": 4,
 "nbformat_minor": 2
}
